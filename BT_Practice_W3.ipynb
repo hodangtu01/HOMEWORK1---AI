{
  "nbformat": 4,
  "nbformat_minor": 0,
  "metadata": {
    "colab": {
      "provenance": [],
      "authorship_tag": "ABX9TyPyDx+O738K96N0FXJCOUxO",
      "include_colab_link": true
    },
    "kernelspec": {
      "name": "python3",
      "display_name": "Python 3"
    },
    "language_info": {
      "name": "python"
    }
  },
  "cells": [
    {
      "cell_type": "markdown",
      "metadata": {
        "id": "view-in-github",
        "colab_type": "text"
      },
      "source": [
        "<a href=\"https://colab.research.google.com/github/hodangtu01/HOMEWORK1---AI/blob/main/BT_Practice_W3.ipynb\" target=\"_parent\"><img src=\"https://colab.research.google.com/assets/colab-badge.svg\" alt=\"Open In Colab\"/></a>"
      ]
    },
    {
      "cell_type": "code",
      "execution_count": null,
      "metadata": {
        "id": "ssjkTmLkGcLH"
      },
      "outputs": [],
      "source": [
        "# Tìm số lượng huy chương của 1 nước/ các nước\n",
        "# Tìm số huy chương vàng, bạc, đồng theo môn thi cá nhân, đồng đội của một nước/ các nước\n",
        "# Bắt đầu từ năm 1945 đến nay\n",
        "\n",
        "# Sử dụng thư viện pandas\n",
        "import pandas as pd\n",
        "# Đường dẫn\n",
        "url = 'medals.csv'\n",
        "# Tạo biến để đọc\n",
        "medal = pd.read_csv(url)\n",
        "# Xuất dữ liệu\n",
        "medal.head(200)\n",
        "# Lọc dữ liệu\n",
        "medal[medal['NOC'] == 'USA'] \n",
        "# Tổng số huy chương của USA\n",
        "medal[medal['NOC'] == 'USA'].count()\n",
        "# Lọc số huy chương của USA về bộ môn Skating\n",
        "medal[(medal['NOC'] == 'USA') & (medal['Sport'] == 'Skating')]\n",
        "# Tổng số huy chương của USA về bộ môn Skating\n",
        "medal[(medal['NOC'] == 'USA') & (medal['Sport'] == 'Skating')].count()\n",
        "# Lọc số huy chương vàng của USA về bộ môn Skating dành cho giới tính Nam hoặc Nữ\n",
        "medal[(medal['NOC'] == 'USA') & (medal['Sport'] == 'Skating') & (medal['Event gender'] == 'M') & (medal['Medal'] == 'Gold')]\n",
        "# Xoá dữ liệu\n",
        "medal[(medal['Year'] != 1924) & (medal['Year'] != 1928) & (medal['Year'] != 1932) & (medal['Year'] != 1936) ].head(182)\n",
        "# Lọc số huy chương vàng của USA về bộ môn Skating dành cho giới tính Nam hoặc Nữ từ năm 1945 đến nay\n",
        "medal[(medal['NOC'] == 'USA') & (medal['Sport'] == 'Skating') & (medal['Event gender'] == 'M') & (medal['Medal'] == 'Gold') & (medal['Year'] != 1924) & (medal['Year'] != 1928) & (medal['Year'] != 1932) ]\n",
        "# Tổng số huy chương vàng của USA về bộ môn Skating dành cho giới tính Nam hoặc Nữ từ năm 1945 đến nay\n",
        "medal[(medal['NOC'] == 'USA') & (medal['Sport'] == 'Skating') & (medal['Event gender'] == 'M') & (medal['Medal'] == 'Gold') & (medal['Year'] != 1924) & (medal['Year'] != 1928) & (medal['Year'] != 1932)].count()\n",
        "# Lọc số huy chương vàng của USA về bộ môn Skating dành cho giới tính Nam hoặc Nữ từ năm 1945 đến nay dành cho cá nhân hoặc đồng đội\n",
        "medal[(medal['NOC'] == 'USA') & (medal['Sport'] == 'Skating') & (medal['Event gender'] == 'M') & (medal['Medal'] == 'Gold') & (medal['Event'] == 'individual') & (medal['Year'] != 1924) & (medal['Year'] != 1928) & (medal['Year'] != 1932) ]\n",
        "# Tổng số huy chương vàng của USA về bộ môn Skating dành cho giới tính Nam hoặc Nữ từ năm 1945 đến nay dành cho cá nhân hoặc đồng đội\n",
        "medal[(medal['NOC'] == 'USA') & (medal['Sport'] == 'Skating') & (medal['Event gender'] == 'M') & (medal['Medal'] == 'Gold') & (medal['Event'] == 'individual') & (medal['Year'] != 1924) & (medal['Year'] != 1928) & (medal['Year'] != 1932)].count()\n",
        "\n",
        "\n",
        "\n"
      ]
    }
  ]
}