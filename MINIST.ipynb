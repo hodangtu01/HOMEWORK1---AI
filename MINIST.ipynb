{
  "nbformat": 4,
  "nbformat_minor": 0,
  "metadata": {
    "colab": {
      "provenance": [],
      "authorship_tag": "ABX9TyMEKdYWT27gmFkvrqEieI/B",
      "include_colab_link": true
    },
    "kernelspec": {
      "name": "python3",
      "display_name": "Python 3"
    },
    "language_info": {
      "name": "python"
    }
  },
  "cells": [
    {
      "cell_type": "markdown",
      "metadata": {
        "id": "view-in-github",
        "colab_type": "text"
      },
      "source": [
        "<a href=\"https://colab.research.google.com/github/hodangtu01/HOMEWORK1---AI/blob/main/MINIST.ipynb\" target=\"_parent\"><img src=\"https://colab.research.google.com/assets/colab-badge.svg\" alt=\"Open In Colab\"/></a>"
      ]
    },
    {
      "cell_type": "code",
      "execution_count": 2,
      "metadata": {
        "id": "KMdVSC6ezbS8",
        "colab": {
          "base_uri": "https://localhost:8080/"
        },
        "outputId": "7d2ae8ad-a7cb-4482-9237-98f4c2d0952e"
      },
      "outputs": [
        {
          "output_type": "stream",
          "name": "stdout",
          "text": [
            "Downloading data from https://storage.googleapis.com/tensorflow/tf-keras-datasets/mnist.npz\n",
            "11490434/11490434 [==============================] - 0s 0us/step\n"
          ]
        }
      ],
      "source": [
        "from keras.datasets import mnist\n",
        "import matplotlib.pyplot as plt\n",
        "\n",
        "# coment\n",
        "(train_images, train_labels),(test_images,test_labels) = mnist.load_data()"
      ]
    },
    {
      "cell_type": "code",
      "source": [
        "train_images.shape\n",
        "# 28 x 28 pixel ==> được coi như là 28 pixel là đầu vào"
      ],
      "metadata": {
        "colab": {
          "base_uri": "https://localhost:8080/"
        },
        "id": "w0k_eEXX0IBu",
        "outputId": "984f7ea8-a1da-4a5d-9980-8919f19879c2"
      },
      "execution_count": 3,
      "outputs": [
        {
          "output_type": "execute_result",
          "data": {
            "text/plain": [
              "(60000, 28, 28)"
            ]
          },
          "metadata": {},
          "execution_count": 3
        }
      ]
    },
    {
      "cell_type": "code",
      "source": [
        "train_labels.shape"
      ],
      "metadata": {
        "colab": {
          "base_uri": "https://localhost:8080/"
        },
        "id": "8yxggTe90ksF",
        "outputId": "1aaa346b-c2bd-4450-9e45-d5500e483e5f"
      },
      "execution_count": 4,
      "outputs": [
        {
          "output_type": "execute_result",
          "data": {
            "text/plain": [
              "(60000,)"
            ]
          },
          "metadata": {},
          "execution_count": 4
        }
      ]
    },
    {
      "cell_type": "code",
      "source": [
        "# Hiển thị giá trị\n",
        "hinh = train_images[43]\n",
        "plt.imshow(hinh, cmap = plt.cm.binary)\n",
        "plt.show\n",
        "print('Số này là:',train_labels[43])"
      ],
      "metadata": {
        "colab": {
          "base_uri": "https://localhost:8080/",
          "height": 282
        },
        "id": "SV6VXQY70nkF",
        "outputId": "471ac822-17f2-4fbe-dc1f-2828e1d38bae"
      },
      "execution_count": 5,
      "outputs": [
        {
          "output_type": "stream",
          "name": "stdout",
          "text": [
            "Số này là: 9\n"
          ]
        },
        {
          "output_type": "display_data",
          "data": {
            "text/plain": [
              "<Figure size 432x288 with 1 Axes>"
            ],
            "image/png": "[encoded data removed]"
          },
          "metadata": {
            "needs_background": "light"
          }
        }
      ]
    },
    {
      "cell_type": "code",
      "source": [
        "for i in range(10):\n",
        "  plt.subplot(3,5,i+1) # 3 hàng, 5 cột\n",
        "  plt.tight_layout()\n",
        "  plt.imshow(train_images[i], cmap = 'gray', interpolation = 'none')\n",
        "  plt.title('Số:{}'.format(train_labels[i]))\n",
        "  plt.xticks([])\n",
        "  plt.yticks([])"
      ],
      "metadata": {
        "colab": {
          "base_uri": "https://localhost:8080/",
          "height": 196
        },
        "id": "krRKr8mL1ZAe",
        "outputId": "845eca6a-d312-45cc-bc97-95ef07fe1b6f"
      },
      "execution_count": 6,
      "outputs": [
        {
          "output_type": "display_data",
          "data": {
            "text/plain": [
              "<Figure size 432x288 with 10 Axes>"
            ],
            "image/png": "[encoded data removed]"
          },
          "metadata": {}
        }
      ]
    },
    {
      "cell_type": "code",
      "source": [
        "from keras import models\n",
        "from keras.models import Sequential\n",
        "from keras.layers import Dense\n",
        "import numpy as np\n",
        "\n",
        "model =  models.Sequential()\n",
        "model.add(Dense(512,input_shape=(784,),activation='relu'))\n",
        "model.add(Dense(10, activation = 'softmax'))\n",
        "# Tach anh mang hai chieu ve thanh 1 hang\n",
        "train_images = train_images.reshape(60000,784, 1) #28*28 = 784\n",
        "train_images = train_images.astype('float32')/255\n",
        "# Chuyen sang so thuc chia 255 = float32, ban dau la int\n",
        "\n",
        "test_images = test_images.reshape(10000,784, 1)\n",
        "test_images = test_images.astype('float32')/255\n",
        "\n",
        "\n"
      ],
      "metadata": {
        "id": "p_ZPwdFt3GD2"
      },
      "execution_count": 7,
      "outputs": []
    },
    {
      "cell_type": "code",
      "source": [
        "# Lenh chuyen sang one heat encoding\n",
        "from keras.utils import to_categorical\n",
        "train_label = to_categorical(train_labels, 10)\n",
        "test_label  = to_categorical(test_labels, 10)"
      ],
      "metadata": {
        "id": "PBcgKqtK5uF_"
      },
      "execution_count": 8,
      "outputs": []
    },
    {
      "cell_type": "code",
      "source": [
        "# Bước 2: Compile - Biên dịch\n",
        "# Bo toi uu rmsprop; Bo mat mat categorical_cross entropy; Do chinh xac\n",
        "model.compile(optimizer = 'rmsprop', loss = 'categorical_crossentropy',metrics = ['accuracy'])\n",
        "model.fit(train_images, train_label, epochs = 50, batch_size = 128)\n",
        "# train 10 lan, moi lan hoc batch_size 128 du lieu trong 10000\n",
        "test_loss, test_acc = model.evaluate(test_images, test_label)\n",
        "print('test_accuracy',test_acc)\n",
        "print('test_loss:',test_loss)"
      ],
      "metadata": {
        "colab": {
          "base_uri": "https://localhost:8080/"
        },
        "id": "Mv_8Ota07IuX",
        "outputId": "c60b5a7a-68b9-4790-c6df-0faab1aa35d4"
      },
      "execution_count": 42,
      "outputs": [
        {
          "output_type": "stream",
          "name": "stdout",
          "text": [
            "Epoch 1/50\n",
            "469/469 [==============================] - 7s 11ms/step - loss: 0.0074 - accuracy: 0.9984\n",
            "Epoch 2/50\n",
            "469/469 [==============================] - 4s 8ms/step - loss: 0.0050 - accuracy: 0.9991\n",
            "Epoch 3/50\n",
            "469/469 [==============================] - 5s 11ms/step - loss: 0.0035 - accuracy: 0.9994\n",
            "Epoch 4/50\n",
            "469/469 [==============================] - 5s 10ms/step - loss: 0.0023 - accuracy: 0.9997\n",
            "Epoch 5/50\n",
            "469/469 [==============================] - 4s 8ms/step - loss: 0.0015 - accuracy: 0.9999\n",
            "Epoch 6/50\n",
            "469/469 [==============================] - 4s 9ms/step - loss: 0.0010 - accuracy: 0.9998\n",
            "Epoch 7/50\n",
            "469/469 [==============================] - 4s 9ms/step - loss: 7.3225e-04 - accuracy: 1.0000\n",
            "Epoch 8/50\n",
            "469/469 [==============================] - 4s 8ms/step - loss: 5.1026e-04 - accuracy: 1.0000\n",
            "Epoch 9/50\n",
            "469/469 [==============================] - 4s 9ms/step - loss: 4.4655e-04 - accuracy: 1.0000\n",
            "Epoch 10/50\n",
            "469/469 [==============================] - 4s 9ms/step - loss: 3.3720e-04 - accuracy: 1.0000\n",
            "Epoch 11/50\n",
            "469/469 [==============================] - 4s 8ms/step - loss: 2.9790e-04 - accuracy: 1.0000\n",
            "Epoch 12/50\n",
            "469/469 [==============================] - 4s 9ms/step - loss: 2.6234e-04 - accuracy: 1.0000\n",
            "Epoch 13/50\n",
            "469/469 [==============================] - 5s 10ms/step - loss: 2.3602e-04 - accuracy: 1.0000\n",
            "Epoch 14/50\n",
            "469/469 [==============================] - 4s 8ms/step - loss: 2.1872e-04 - accuracy: 1.0000\n",
            "Epoch 15/50\n",
            "469/469 [==============================] - 4s 8ms/step - loss: 2.0213e-04 - accuracy: 1.0000\n",
            "Epoch 16/50\n",
            "469/469 [==============================] - 5s 10ms/step - loss: 1.8990e-04 - accuracy: 1.0000\n",
            "Epoch 17/50\n",
            "469/469 [==============================] - 4s 8ms/step - loss: 1.7741e-04 - accuracy: 1.0000\n",
            "Epoch 18/50\n",
            "469/469 [==============================] - 4s 8ms/step - loss: 1.6691e-04 - accuracy: 1.0000\n",
            "Epoch 19/50\n",
            "469/469 [==============================] - 5s 10ms/step - loss: 1.5740e-04 - accuracy: 1.0000\n",
            "Epoch 20/50\n",
            "469/469 [==============================] - 4s 8ms/step - loss: 1.4825e-04 - accuracy: 1.0000\n",
            "Epoch 21/50\n",
            "469/469 [==============================] - 4s 8ms/step - loss: 1.4118e-04 - accuracy: 1.0000\n",
            "Epoch 22/50\n",
            "469/469 [==============================] - 5s 10ms/step - loss: 1.3430e-04 - accuracy: 1.0000\n",
            "Epoch 23/50\n",
            "469/469 [==============================] - 4s 8ms/step - loss: 1.2849e-04 - accuracy: 1.0000\n",
            "Epoch 24/50\n",
            "469/469 [==============================] - 4s 8ms/step - loss: 1.2216e-04 - accuracy: 1.0000\n",
            "Epoch 25/50\n",
            "469/469 [==============================] - 5s 10ms/step - loss: 1.1713e-04 - accuracy: 1.0000\n",
            "Epoch 26/50\n",
            "469/469 [==============================] - 4s 9ms/step - loss: 1.1233e-04 - accuracy: 1.0000\n",
            "Epoch 27/50\n",
            "469/469 [==============================] - 4s 8ms/step - loss: 1.0833e-04 - accuracy: 1.0000\n",
            "Epoch 28/50\n",
            "469/469 [==============================] - 5s 10ms/step - loss: 1.0443e-04 - accuracy: 1.0000\n",
            "Epoch 29/50\n",
            "469/469 [==============================] - 4s 8ms/step - loss: 1.0043e-04 - accuracy: 1.0000\n",
            "Epoch 30/50\n",
            "469/469 [==============================] - 4s 8ms/step - loss: 9.7082e-05 - accuracy: 1.0000\n",
            "Epoch 31/50\n",
            "469/469 [==============================] - 5s 10ms/step - loss: 9.3842e-05 - accuracy: 1.0000\n",
            "Epoch 32/50\n",
            "469/469 [==============================] - 4s 8ms/step - loss: 9.0358e-05 - accuracy: 1.0000\n",
            "Epoch 33/50\n",
            "469/469 [==============================] - 4s 8ms/step - loss: 8.8142e-05 - accuracy: 1.0000\n",
            "Epoch 34/50\n",
            "469/469 [==============================] - 5s 10ms/step - loss: 8.5140e-05 - accuracy: 1.0000\n",
            "Epoch 35/50\n",
            "469/469 [==============================] - 4s 8ms/step - loss: 8.2662e-05 - accuracy: 1.0000\n",
            "Epoch 36/50\n",
            "469/469 [==============================] - 4s 8ms/step - loss: 8.0384e-05 - accuracy: 1.0000\n",
            "Epoch 37/50\n",
            "469/469 [==============================] - 5s 10ms/step - loss: 7.7884e-05 - accuracy: 1.0000\n",
            "Epoch 38/50\n",
            "469/469 [==============================] - 4s 8ms/step - loss: 7.5985e-05 - accuracy: 1.0000\n",
            "Epoch 39/50\n",
            "469/469 [==============================] - 4s 8ms/step - loss: 7.3687e-05 - accuracy: 1.0000\n",
            "Epoch 40/50\n",
            "469/469 [==============================] - 4s 9ms/step - loss: 7.1895e-05 - accuracy: 1.0000\n",
            "Epoch 41/50\n",
            "469/469 [==============================] - 4s 9ms/step - loss: 7.0261e-05 - accuracy: 1.0000\n",
            "Epoch 42/50\n",
            "469/469 [==============================] - 4s 8ms/step - loss: 6.8208e-05 - accuracy: 1.0000\n",
            "Epoch 43/50\n",
            "469/469 [==============================] - 4s 8ms/step - loss: 6.6837e-05 - accuracy: 1.0000\n",
            "Epoch 44/50\n",
            "469/469 [==============================] - 5s 10ms/step - loss: 6.5095e-05 - accuracy: 1.0000\n",
            "Epoch 45/50\n",
            "469/469 [==============================] - 4s 8ms/step - loss: 6.3409e-05 - accuracy: 1.0000\n",
            "Epoch 46/50\n",
            "469/469 [==============================] - 4s 8ms/step - loss: 6.2176e-05 - accuracy: 1.0000\n",
            "Epoch 47/50\n",
            "469/469 [==============================] - 5s 10ms/step - loss: 6.0698e-05 - accuracy: 1.0000\n",
            "Epoch 48/50\n",
            "469/469 [==============================] - 4s 8ms/step - loss: 5.9454e-05 - accuracy: 1.0000\n",
            "Epoch 49/50\n",
            "469/469 [==============================] - 4s 8ms/step - loss: 5.8060e-05 - accuracy: 1.0000\n",
            "Epoch 50/50\n",
            "469/469 [==============================] - 5s 10ms/step - loss: 5.6965e-05 - accuracy: 1.0000\n",
            "313/313 [==============================] - 1s 2ms/step - loss: 0.0764 - accuracy: 0.9845\n",
            "test_accuracy 0.984499990940094\n",
            "test_loss: 0.07638062536716461\n"
          ]
        }
      ]
    },
    {
      "cell_type": "code",
      "source": [
        "# Thu mo hinh\n",
        "#image_test = 76\n",
        "#image_test = test_images[image_test, :, :].reshape(-1,1) ==> 1 và -1\n",
        "#pre_image = np.argmax(model.predict(image_test))\n",
        "#plt.imshow(image_test.reshape(28,28), cmap='binary')\n",
        "#print('pre:',pre_image)\n",
        "image_test = 999\n",
        "image_test = test_images[image_test, :, :].reshape(1, -1)\n",
        "pre_image = np.argmax(model.predict(image_test))\n",
        "plt.imshow(image_test.reshape(28,28), cmap='binary')\n",
        "print('Số dự đoán được là:',pre_image)\n",
        "\n",
        "\n"
      ],
      "metadata": {
        "colab": {
          "base_uri": "https://localhost:8080/",
          "height": 300
        },
        "id": "etoRPkb9_ZRE",
        "outputId": "a87bd3c5-2753-4324-be6a-b957f5bd1c07"
      },
      "execution_count": 75,
      "outputs": [
        {
          "output_type": "stream",
          "name": "stdout",
          "text": [
            "1/1 [==============================] - 0s 33ms/step\n",
            "Số dự đoán được là: 9\n"
          ]
        },
        {
          "output_type": "display_data",
          "data": {
            "text/plain": [
              "<Figure size 432x288 with 1 Axes>"
            ],
            "image/png": "[encoded data removed]"
          },
          "metadata": {
            "needs_background": "light"
          }
        }
      ]
    },
    {
      "cell_type": "code",
      "source": [
        "image_test = 99\n",
        "image_test = test_images[image_test, :, :].reshape(1, -1)\n",
        "pre_image = np.argmax(model.predict(image_test))\n",
        "plt.imshow(image_test.reshape(28,28), cmap='binary')\n",
        "print('Số dự đoán được là:',pre_image)"
      ],
      "metadata": {
        "colab": {
          "base_uri": "https://localhost:8080/",
          "height": 300
        },
        "id": "FiPbK8IEPoZu",
        "outputId": "ecb21ea5-f5aa-4e6d-ac6c-02389471b022"
      },
      "execution_count": 76,
      "outputs": [
        {
          "output_type": "stream",
          "name": "stdout",
          "text": [
            "1/1 [==============================] - 0s 33ms/step\n",
            "Số dự đoán được là: 9\n"
          ]
        },
        {
          "output_type": "display_data",
          "data": {
            "text/plain": [
              "<Figure size 432x288 with 1 Axes>"
            ],
            "image/png": "[encoded data removed]"
          },
          "metadata": {
            "needs_background": "light"
          }
        }
      ]
    },
    {
      "cell_type": "code",
      "source": [
        "# Lưu tham số vào 1 file\n",
        "model.save('model1.hs')"
      ],
      "metadata": {
        "id": "5I6QUT_FADfS"
      },
      "execution_count": null,
      "outputs": []
    }
  ]
}