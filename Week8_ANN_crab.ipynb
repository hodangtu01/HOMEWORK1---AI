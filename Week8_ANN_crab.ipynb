{
  "nbformat": 4,
  "nbformat_minor": 0,
  "metadata": {
    "colab": {
      "provenance": [],
      "include_colab_link": true
    },
    "kernelspec": {
      "name": "python3",
      "display_name": "Python 3"
    },
    "language_info": {
      "name": "python"
    }
  },
  "cells": [
    {
      "cell_type": "markdown",
      "metadata": {
        "id": "view-in-github",
        "colab_type": "text"
      },
      "source": [
        "<a href=\"https://colab.research.google.com/github/hodangtu01/HOMEWORK1---AI/blob/main/Week8_ANN_crab.ipynb\" target=\"_parent\"><img src=\"https://colab.research.google.com/assets/colab-badge.svg\" alt=\"Open In Colab\"/></a>"
      ]
    },
    {
      "cell_type": "code",
      "execution_count": 1,
      "metadata": {
        "id": "b3FMQBf1-pJ2"
      },
      "outputs": [],
      "source": [
        "import pandas as pd\n",
        "from sklearn.linear_model import Perceptron\n",
        "from sklearn import datasets\n",
        "from sklearn.model_selection import train_test_split\n",
        "from sklearn.metrics import accuracy_score\n",
        "from sklearn.preprocessing import StandardScaler\n",
        "import numpy as np\n",
        "# sklearn: thư viện cho machine learning, deep learning, ANN, ..."
      ]
    },
    {
      "cell_type": "markdown",
      "source": [
        "Training a crab's sex recognition model\n",
        "1. CRAB B"
      ],
      "metadata": {
        "id": "bbPDhVbN-9QW"
      }
    },
    {
      "cell_type": "code",
      "source": [
        "dataframe = pd.read_csv('crabs.csv')\n",
        "#data.head()\n",
        "crab_B = dataframe[dataframe['speies']=='B']\n",
        "#print(crab_B)\n",
        "crab_B.sex = crab_B.sex.apply(lambda x: x.replace(\"M\",\"0\"))\n",
        "crab_B.sex = crab_B.sex.apply(lambda x: x.replace(\"F\",\"1\"))\n",
        "print(crab_B)"
      ],
      "metadata": {
        "colab": {
          "base_uri": "https://localhost:8080/"
        },
        "id": "KmQHWNKN-8he",
        "outputId": "82f06ea0-5332-47aa-a479-0051e2df9285"
      },
      "execution_count": 3,
      "outputs": [
        {
          "output_type": "stream",
          "name": "stdout",
          "text": [
            "   speies sex  index  fontallip  rearwidth  length  width  depth\n",
            "0       B   0      1        8.1        6.7    16.1   19.0    7.0\n",
            "1       B   0      2        8.8        7.7    18.1   20.8    7.4\n",
            "2       B   0      3        9.2        7.8    19.0   22.4    7.7\n",
            "3       B   0      4        9.6        7.9    20.1   23.1    8.2\n",
            "4       B   0      5        9.8        8.0    20.3   23.0    8.2\n",
            "..    ...  ..    ...        ...        ...     ...    ...    ...\n",
            "95      B   1     46       16.4       14.0    34.2   39.8   15.2\n",
            "96      B   1     47       16.7       16.1    36.6   41.9   15.4\n",
            "97      B   1     48       17.4       16.9    38.2   44.1   16.6\n",
            "98      B   1     49       17.5       16.7    38.6   44.5   17.0\n",
            "99      B   1     50       19.2       16.5    40.9   47.9   18.1\n",
            "\n",
            "[100 rows x 8 columns]\n"
          ]
        },
        {
          "output_type": "stream",
          "name": "stderr",
          "text": [
            "<ipython-input-3-b0110deaf0ec>:5: SettingWithCopyWarning: \n",
            "A value is trying to be set on a copy of a slice from a DataFrame.\n",
            "Try using .loc[row_indexer,col_indexer] = value instead\n",
            "\n",
            "See the caveats in the documentation: https://pandas.pydata.org/pandas-docs/stable/user_guide/indexing.html#returning-a-view-versus-a-copy\n",
            "  crab_B.sex = crab_B.sex.apply(lambda x: x.replace(\"M\",\"0\"))\n",
            "<ipython-input-3-b0110deaf0ec>:6: SettingWithCopyWarning: \n",
            "A value is trying to be set on a copy of a slice from a DataFrame.\n",
            "Try using .loc[row_indexer,col_indexer] = value instead\n",
            "\n",
            "See the caveats in the documentation: https://pandas.pydata.org/pandas-docs/stable/user_guide/indexing.html#returning-a-view-versus-a-copy\n",
            "  crab_B.sex = crab_B.sex.apply(lambda x: x.replace(\"F\",\"1\"))\n"
          ]
        }
      ]
    },
    {
      "cell_type": "code",
      "source": [
        "x = crab_B.drop(['speies','sex','index'],axis = 1)\n",
        "#print(x)\n",
        "y = crab_B.sex\n"
      ],
      "metadata": {
        "id": "-dIjArAsAat-"
      },
      "execution_count": 4,
      "outputs": []
    },
    {
      "cell_type": "code",
      "source": [
        "x_train, x_test, y_train, y_test = train_test_split(x,y,test_size=0.3)\n",
        "sc = StandardScaler()\n",
        "sc.fit(x_train)\n",
        "x_train_std = sc.transform(x_train)\n",
        "x_test_std = sc.transform(x_test)"
      ],
      "metadata": {
        "id": "w4XFiTXHF-Xh"
      },
      "execution_count": 5,
      "outputs": []
    },
    {
      "cell_type": "code",
      "source": [
        "model = Perceptron(max_iter = 150, eta0 = 0.1, random_state = 0)\n",
        "#model: số lần học\n",
        "#eta: tốc độ học, có giá trị từ (0,1), tốc độ càng nhỏ càng chính xác*\n",
        "model.fit(x_train_std, y_train)\n",
        "y_pred = model.predict(x_test_std)\n",
        "#print(y_pred)\n",
        "#print(y_test)\n",
        "print(\"Độ chính xác của mô hình: \", accuracy_score(y_test, y_pred))\n"
      ],
      "metadata": {
        "colab": {
          "base_uri": "https://localhost:8080/"
        },
        "id": "mbQ4FIGoGEkR",
        "outputId": "a10f180f-6df2-4bae-bff9-ed8c9a07bb7e"
      },
      "execution_count": 10,
      "outputs": [
        {
          "output_type": "stream",
          "name": "stdout",
          "text": [
            "Độ chính xác của mô hình:  0.8333333333333334\n"
          ]
        }
      ]
    },
    {
      "cell_type": "code",
      "source": [
        "x_2 = [[9, 6, 16, 19, 8],[15, 2, 5, 8, 10]]\n",
        "sc = StandardScaler()\n",
        "sc.fit(x_2)\n",
        "x_2_std = sc.transform(x_2)"
      ],
      "metadata": {
        "id": "QhgUgbmbJxsb"
      },
      "execution_count": 11,
      "outputs": []
    },
    {
      "cell_type": "code",
      "source": [
        "y_2 = model.predict(x_2_std)\n",
        "print(y_2)"
      ],
      "metadata": {
        "colab": {
          "base_uri": "https://localhost:8080/"
        },
        "id": "y4ueP4m6KdlK",
        "outputId": "b7d4891d-4f2a-4980-fd2e-2887028ea636"
      },
      "execution_count": 12,
      "outputs": [
        {
          "output_type": "stream",
          "name": "stdout",
          "text": [
            "['1' '0']\n"
          ]
        }
      ]
    },
    {
      "cell_type": "markdown",
      "source": [
        "2. CRAB O"
      ],
      "metadata": {
        "id": "sYFCsxoHMi6D"
      }
    },
    {
      "cell_type": "code",
      "source": [
        "dataframe = pd.read_csv('crabs.csv')\n",
        "#data.head()\n",
        "crab_O = dataframe[dataframe['speies']=='O']\n",
        "#print(crab_B)\n",
        "crab_O.sex = crab_O.sex.apply(lambda x: x.replace(\"M\",\"0\"))\n",
        "crab_O.sex = crab_O.sex.apply(lambda x: x.replace(\"F\",\"1\"))\n",
        "print(crab_O)"
      ],
      "metadata": {
        "colab": {
          "base_uri": "https://localhost:8080/"
        },
        "id": "rteQywKCMivl",
        "outputId": "bd83a6ac-fb3f-46c7-9d62-60db28e072f2"
      },
      "execution_count": 14,
      "outputs": [
        {
          "output_type": "stream",
          "name": "stdout",
          "text": [
            "    speies sex  index  fontallip  rearwidth  length  width  depth\n",
            "100      O   0      1        9.1        6.9    16.7   18.6    7.4\n",
            "101      O   0      2       10.2        8.2    20.2   22.2    9.0\n",
            "102      O   0      3       10.7        8.6    20.7   22.7    9.2\n",
            "103      O   0      4       11.4        9.0    22.7   24.8   10.1\n",
            "104      O   0      5       12.5        9.4    23.2   26.0   10.8\n",
            "..     ...  ..    ...        ...        ...     ...    ...    ...\n",
            "195      O   1     46       21.4       18.0    41.2   46.2   18.7\n",
            "196      O   1     47       21.7       17.1    41.7   47.2   19.6\n",
            "197      O   1     48       21.9       17.2    42.6   47.4   19.5\n",
            "198      O   1     49       22.5       17.2    43.0   48.7   19.8\n",
            "199      O   1     50       23.1       20.2    46.2   52.5   21.1\n",
            "\n",
            "[100 rows x 8 columns]\n"
          ]
        },
        {
          "output_type": "stream",
          "name": "stderr",
          "text": [
            "<ipython-input-14-a38786c45269>:5: SettingWithCopyWarning: \n",
            "A value is trying to be set on a copy of a slice from a DataFrame.\n",
            "Try using .loc[row_indexer,col_indexer] = value instead\n",
            "\n",
            "See the caveats in the documentation: https://pandas.pydata.org/pandas-docs/stable/user_guide/indexing.html#returning-a-view-versus-a-copy\n",
            "  crab_O.sex = crab_O.sex.apply(lambda x: x.replace(\"M\",\"0\"))\n",
            "<ipython-input-14-a38786c45269>:6: SettingWithCopyWarning: \n",
            "A value is trying to be set on a copy of a slice from a DataFrame.\n",
            "Try using .loc[row_indexer,col_indexer] = value instead\n",
            "\n",
            "See the caveats in the documentation: https://pandas.pydata.org/pandas-docs/stable/user_guide/indexing.html#returning-a-view-versus-a-copy\n",
            "  crab_O.sex = crab_O.sex.apply(lambda x: x.replace(\"F\",\"1\"))\n"
          ]
        }
      ]
    },
    {
      "cell_type": "code",
      "source": [
        "x_O = crab_O.drop(['speies','sex','index'],axis = 1)\n",
        "#print(x)\n",
        "y_O = crab_O.sex\n"
      ],
      "metadata": {
        "id": "e75AZDjuM7ol"
      },
      "execution_count": 15,
      "outputs": []
    },
    {
      "cell_type": "code",
      "source": [
        "x_O_train, x_O_test, y_O_train, y_O_test = train_test_split(x_O,y_O,test_size=0.3)\n",
        "sc = StandardScaler()\n",
        "sc.fit(x_O_train)\n",
        "x_O_train_std = sc.transform(x_O_train)\n",
        "x_O_test_std = sc.transform(x_O_test)"
      ],
      "metadata": {
        "id": "poPTRdJiNAUb"
      },
      "execution_count": 16,
      "outputs": []
    },
    {
      "cell_type": "code",
      "source": [
        "model = Perceptron(max_iter = 100, eta0 = 0.1, random_state = 0)\n",
        "#model: số lần học\n",
        "#eta: tốc độ học, có giá trị từ (0,1), tốc độ càng nhỏ càng chính xác*\n",
        "model.fit(x_O_train_std, y_O_train)\n",
        "y_O_pred = model.predict(x_O_test_std)\n",
        "#print(y_O_pred)\n",
        "#print(y_O_test)\n",
        "print(\"Độ chính xác của mô hình: \", accuracy_score(y_O_test, y_O_pred))"
      ],
      "metadata": {
        "colab": {
          "base_uri": "https://localhost:8080/"
        },
        "id": "ATEZpZzgNQ8U",
        "outputId": "d85bbe1b-7da0-4e59-e1e1-ac50289d2da1"
      },
      "execution_count": 17,
      "outputs": [
        {
          "output_type": "stream",
          "name": "stdout",
          "text": [
            "Độ chính xác của mô hình:  0.9666666666666667\n"
          ]
        }
      ]
    }
  ]
}