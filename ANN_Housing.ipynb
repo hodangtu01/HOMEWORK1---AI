{
  "nbformat": 4,
  "nbformat_minor": 0,
  "metadata": {
    "colab": {
      "provenance": [],
      "authorship_tag": "ABX9TyMtNVhTubz8nLmqS7GtSUdW",
      "include_colab_link": true
    },
    "kernelspec": {
      "name": "python3",
      "display_name": "Python 3"
    },
    "language_info": {
      "name": "python"
    }
  },
  "cells": [
    {
      "cell_type": "markdown",
      "metadata": {
        "id": "view-in-github",
        "colab_type": "text"
      },
      "source": [
        "<a href=\"https://colab.research.google.com/github/hodangtu01/HOMEWORK1---AI/blob/main/ANN_Housing.ipynb\" target=\"_parent\"><img src=\"https://colab.research.google.com/assets/colab-badge.svg\" alt=\"Open In Colab\"/></a>"
      ]
    },
    {
      "cell_type": "code",
      "source": [
        "import pandas as pd\n",
        "import numpy as np\n",
        "from sklearn.model_selection import train_test_split\n",
        "from sklearn.preprocessing import MinMaxScaler, StandardScaler, OneHotEncoder\n",
        "from sklearn.compose import ColumnTransformer\n",
        "from keras.models import Sequential\n",
        "from keras.layers import Dense\n",
        "\n",
        "# Load data from csv file\n",
        "data = pd.read_csv(\"Housing.csv\")\n",
        "\n",
        "data.head()"
      ],
      "metadata": {
        "colab": {
          "base_uri": "https://localhost:8080/",
          "height": 270
        },
        "id": "Y-WVb3aOSCdL",
        "outputId": "7e4adbd2-923f-41f8-bf74-48da1de3f052"
      },
      "execution_count": 35,
      "outputs": [
        {
          "output_type": "execute_result",
          "data": {
            "text/plain": [
              "      price  area  bedrooms  bathrooms  stories mainroad guestroom basement  \\\n",
              "0  13300000  7420         4          2        3      yes        no       no   \n",
              "1  12250000  8960         4          4        4      yes        no       no   \n",
              "2  12250000  9960         3          2        2      yes        no      yes   \n",
              "3  12215000  7500         4          2        2      yes        no      yes   \n",
              "4  11410000  7420         4          1        2      yes       yes      yes   \n",
              "\n",
              "  hotwaterheating airconditioning  parking prefarea furnishingstatus  \n",
              "0              no             yes        2      yes        furnished  \n",
              "1              no             yes        3       no        furnished  \n",
              "2              no              no        2      yes   semi-furnished  \n",
              "3              no             yes        3      yes        furnished  \n",
              "4              no             yes        2       no        furnished  "
            ],
            "text/html": [
              "\n",
              "  <div id=\"df-d6b698c6-5be9-428a-b0a2-88224cf027d0\">\n",
              "    <div class=\"colab-df-container\">\n",
              "      <div>\n",
              "<style scoped>\n",
              "    .dataframe tbody tr th:only-of-type {\n",
              "        vertical-align: middle;\n",
              "    }\n",
              "\n",
              "    .dataframe tbody tr th {\n",
              "        vertical-align: top;\n",
              "    }\n",
              "\n",
              "    .dataframe thead th {\n",
              "        text-align: right;\n",
              "    }\n",
              "</style>\n",
              "<table border=\"1\" class=\"dataframe\">\n",
              "  <thead>\n",
              "    <tr style=\"text-align: right;\">\n",
              "      <th></th>\n",
              "      <th>price</th>\n",
              "      <th>area</th>\n",
              "      <th>bedrooms</th>\n",
              "      <th>bathrooms</th>\n",
              "      <th>stories</th>\n",
              "      <th>mainroad</th>\n",
              "      <th>guestroom</th>\n",
              "      <th>basement</th>\n",
              "      <th>hotwaterheating</th>\n",
              "      <th>airconditioning</th>\n",
              "      <th>parking</th>\n",
              "      <th>prefarea</th>\n",
              "      <th>furnishingstatus</th>\n",
              "    </tr>\n",
              "  </thead>\n",
              "  <tbody>\n",
              "    <tr>\n",
              "      <th>0</th>\n",
              "      <td>13300000</td>\n",
              "      <td>7420</td>\n",
              "      <td>4</td>\n",
              "      <td>2</td>\n",
              "      <td>3</td>\n",
              "      <td>yes</td>\n",
              "      <td>no</td>\n",
              "      <td>no</td>\n",
              "      <td>no</td>\n",
              "      <td>yes</td>\n",
              "      <td>2</td>\n",
              "      <td>yes</td>\n",
              "      <td>furnished</td>\n",
              "    </tr>\n",
              "    <tr>\n",
              "      <th>1</th>\n",
              "      <td>12250000</td>\n",
              "      <td>8960</td>\n",
              "      <td>4</td>\n",
              "      <td>4</td>\n",
              "      <td>4</td>\n",
              "      <td>yes</td>\n",
              "      <td>no</td>\n",
              "      <td>no</td>\n",
              "      <td>no</td>\n",
              "      <td>yes</td>\n",
              "      <td>3</td>\n",
              "      <td>no</td>\n",
              "      <td>furnished</td>\n",
              "    </tr>\n",
              "    <tr>\n",
              "      <th>2</th>\n",
              "      <td>12250000</td>\n",
              "      <td>9960</td>\n",
              "      <td>3</td>\n",
              "      <td>2</td>\n",
              "      <td>2</td>\n",
              "      <td>yes</td>\n",
              "      <td>no</td>\n",
              "      <td>yes</td>\n",
              "      <td>no</td>\n",
              "      <td>no</td>\n",
              "      <td>2</td>\n",
              "      <td>yes</td>\n",
              "      <td>semi-furnished</td>\n",
              "    </tr>\n",
              "    <tr>\n",
              "      <th>3</th>\n",
              "      <td>12215000</td>\n",
              "      <td>7500</td>\n",
              "      <td>4</td>\n",
              "      <td>2</td>\n",
              "      <td>2</td>\n",
              "      <td>yes</td>\n",
              "      <td>no</td>\n",
              "      <td>yes</td>\n",
              "      <td>no</td>\n",
              "      <td>yes</td>\n",
              "      <td>3</td>\n",
              "      <td>yes</td>\n",
              "      <td>furnished</td>\n",
              "    </tr>\n",
              "    <tr>\n",
              "      <th>4</th>\n",
              "      <td>11410000</td>\n",
              "      <td>7420</td>\n",
              "      <td>4</td>\n",
              "      <td>1</td>\n",
              "      <td>2</td>\n",
              "      <td>yes</td>\n",
              "      <td>yes</td>\n",
              "      <td>yes</td>\n",
              "      <td>no</td>\n",
              "      <td>yes</td>\n",
              "      <td>2</td>\n",
              "      <td>no</td>\n",
              "      <td>furnished</td>\n",
              "    </tr>\n",
              "  </tbody>\n",
              "</table>\n",
              "</div>\n",
              "      <button class=\"colab-df-convert\" onclick=\"convertToInteractive('df-d6b698c6-5be9-428a-b0a2-88224cf027d0')\"\n",
              "              title=\"Convert this dataframe to an interactive table.\"\n",
              "              style=\"display:none;\">\n",
              "        \n",
              "  <svg xmlns=\"http://www.w3.org/2000/svg\" height=\"24px\"viewBox=\"0 0 24 24\"\n",
              "       width=\"24px\">\n",
              "    <path d=\"M0 0h24v24H0V0z\" fill=\"none\"/>\n",
              "    <path d=\"M18.56 5.44l.94 2.06.94-2.06 2.06-.94-2.06-.94-.94-2.06-.94 2.06-2.06.94zm-11 1L8.5 8.5l.94-2.06 2.06-.94-2.06-.94L8.5 2.5l-.94 2.06-2.06.94zm10 10l.94 2.06.94-2.06 2.06-.94-2.06-.94-.94-2.06-.94 2.06-2.06.94z\"/><path d=\"M17.41 7.96l-1.37-1.37c-.4-.4-.92-.59-1.43-.59-.52 0-1.04.2-1.43.59L10.3 9.45l-7.72 7.72c-.78.78-.78 2.05 0 2.83L4 21.41c.39.39.9.59 1.41.59.51 0 1.02-.2 1.41-.59l7.78-7.78 2.81-2.81c.8-.78.8-2.07 0-2.86zM5.41 20L4 18.59l7.72-7.72 1.47 1.35L5.41 20z\"/>\n",
              "  </svg>\n",
              "      </button>\n",
              "      \n",
              "  <style>\n",
              "    .colab-df-container {\n",
              "      display:flex;\n",
              "      flex-wrap:wrap;\n",
              "      gap: 12px;\n",
              "    }\n",
              "\n",
              "    .colab-df-convert {\n",
              "      background-color: #E8F0FE;\n",
              "      border: none;\n",
              "      border-radius: 50%;\n",
              "      cursor: pointer;\n",
              "      display: none;\n",
              "      fill: #1967D2;\n",
              "      height: 32px;\n",
              "      padding: 0 0 0 0;\n",
              "      width: 32px;\n",
              "    }\n",
              "\n",
              "    .colab-df-convert:hover {\n",
              "      background-color: #E2EBFA;\n",
              "      box-shadow: 0px 1px 2px rgba(60, 64, 67, 0.3), 0px 1px 3px 1px rgba(60, 64, 67, 0.15);\n",
              "      fill: #174EA6;\n",
              "    }\n",
              "\n",
              "    [theme=dark] .colab-df-convert {\n",
              "      background-color: #3B4455;\n",
              "      fill: #D2E3FC;\n",
              "    }\n",
              "\n",
              "    [theme=dark] .colab-df-convert:hover {\n",
              "      background-color: #434B5C;\n",
              "      box-shadow: 0px 1px 3px 1px rgba(0, 0, 0, 0.15);\n",
              "      filter: drop-shadow(0px 1px 2px rgba(0, 0, 0, 0.3));\n",
              "      fill: #FFFFFF;\n",
              "    }\n",
              "  </style>\n",
              "\n",
              "      <script>\n",
              "        const buttonEl =\n",
              "          document.querySelector('#df-d6b698c6-5be9-428a-b0a2-88224cf027d0 button.colab-df-convert');\n",
              "        buttonEl.style.display =\n",
              "          google.colab.kernel.accessAllowed ? 'block' : 'none';\n",
              "\n",
              "        async function convertToInteractive(key) {\n",
              "          const element = document.querySelector('#df-d6b698c6-5be9-428a-b0a2-88224cf027d0');\n",
              "          const dataTable =\n",
              "            await google.colab.kernel.invokeFunction('convertToInteractive',\n",
              "                                                     [key], {});\n",
              "          if (!dataTable) return;\n",
              "\n",
              "          const docLinkHtml = 'Like what you see? Visit the ' +\n",
              "            '<a target=\"_blank\" href=https://colab.research.google.com/notebooks/data_table.ipynb>data table notebook</a>'\n",
              "            + ' to learn more about interactive tables.';\n",
              "          element.innerHTML = '';\n",
              "          dataTable['output_type'] = 'display_data';\n",
              "          await google.colab.output.renderOutput(dataTable, element);\n",
              "          const docLink = document.createElement('div');\n",
              "          docLink.innerHTML = docLinkHtml;\n",
              "          element.appendChild(docLink);\n",
              "        }\n",
              "      </script>\n",
              "    </div>\n",
              "  </div>\n",
              "  "
            ]
          },
          "metadata": {},
          "execution_count": 35
        }
      ]
    },
    {
      "cell_type": "code",
      "source": [
        "data.shape"
      ],
      "metadata": {
        "colab": {
          "base_uri": "https://localhost:8080/"
        },
        "id": "CxItf4J1SFEC",
        "outputId": "a8b676ce-5555-4e5d-91e3-efa21b61d790"
      },
      "execution_count": 36,
      "outputs": [
        {
          "output_type": "execute_result",
          "data": {
            "text/plain": [
              "(545, 13)"
            ]
          },
          "metadata": {},
          "execution_count": 36
        }
      ]
    },
    {
      "cell_type": "code",
      "source": [
        "# Prepare data for the model\n",
        "X = data.drop('price', axis=1)\n",
        "y = data['price']\n",
        "\n",
        "# One-hot encode categorical variables\n",
        "categorical_cols = [col for col in X.columns if X[col].dtype == 'object']\n",
        "ct = ColumnTransformer([('encoder', OneHotEncoder(), categorical_cols)], remainder='passthrough')\n",
        "X = np.array(ct.fit_transform(X))"
      ],
      "metadata": {
        "id": "xEdFv-OJSF_R"
      },
      "execution_count": 37,
      "outputs": []
    },
    {
      "cell_type": "code",
      "source": [
        "print(X)"
      ],
      "metadata": {
        "colab": {
          "base_uri": "https://localhost:8080/"
        },
        "id": "QPsVDyZmSZ_T",
        "outputId": "a9df5db3-1d38-4e47-859d-e9f89b372eb3"
      },
      "execution_count": 38,
      "outputs": [
        {
          "output_type": "stream",
          "name": "stdout",
          "text": [
            "[[0. 1. 1. ... 2. 3. 2.]\n",
            " [0. 1. 1. ... 4. 4. 3.]\n",
            " [0. 1. 1. ... 2. 2. 2.]\n",
            " ...\n",
            " [0. 1. 1. ... 1. 1. 0.]\n",
            " [1. 0. 1. ... 1. 1. 0.]\n",
            " [0. 1. 1. ... 1. 2. 0.]]\n"
          ]
        }
      ]
    },
    {
      "cell_type": "code",
      "source": [
        "# Scale the numerical variables\n",
        "sc = StandardScaler()\n",
        "X[:, len(categorical_cols):] = sc.fit_transform(X[:, len(categorical_cols):])\n",
        "\n",
        "# Split data into train and test sets\n",
        "X_train, X_test, y_train, y_test = train_test_split(X, y, test_size=0.2, random_state=0)"
      ],
      "metadata": {
        "id": "G0h7rZCpSeGs"
      },
      "execution_count": 39,
      "outputs": []
    },
    {
      "cell_type": "code",
      "source": [
        "print(X[1])"
      ],
      "metadata": {
        "colab": {
          "base_uri": "https://localhost:8080/"
        },
        "id": "DBMlDjJxSiNq",
        "outputId": "ac934779-efeb-4a80-a06a-f2f0377cafee"
      },
      "execution_count": 41,
      "outputs": [
        {
          "output_type": "stream",
          "name": "stdout",
          "text": [
            "[ 0.          1.          1.          0.          1.          0.\n",
            "  1.         -0.2192645  -1.4726183   1.4726183   0.55403469 -0.55403469\n",
            "  1.70084013 -0.84488844 -0.6964292   1.75700953  1.40341936  5.40580863\n",
            "  2.53202371  2.67940935]\n"
          ]
        }
      ]
    },
    {
      "cell_type": "code",
      "source": [
        "# Scale the data\n",
        "scaler = MinMaxScaler()\n",
        "X_train_scaled = scaler.fit_transform(X_train)\n",
        "X_test_scaled = scaler.transform(X_test)\n"
      ],
      "metadata": {
        "id": "YwfVmsGySrjT"
      },
      "execution_count": 42,
      "outputs": []
    },
    {
      "cell_type": "code",
      "source": [
        "print(X_train_scaled[1])"
      ],
      "metadata": {
        "colab": {
          "base_uri": "https://localhost:8080/"
        },
        "id": "eZD1RfqRSvrk",
        "outputId": "529cb26a-9ad1-4c02-a2f6-d4b8758d3898"
      },
      "execution_count": 44,
      "outputs": [
        {
          "output_type": "stream",
          "name": "stdout",
          "text": [
            "[0.         1.         1.         0.         1.         0.\n",
            " 1.         0.         1.         0.         1.         0.\n",
            " 0.         0.         1.         0.15065441 0.2        0.\n",
            " 0.         0.        ]\n"
          ]
        }
      ]
    },
    {
      "cell_type": "code",
      "source": [
        "# Build the model\n",
        "model = Sequential()\n",
        "model.add(Dense(128, activation='relu', input_dim=X_train.shape[1]))\n",
        "model.add(Dense(64, activation='relu'))\n",
        "model.add(Dense(1))\n",
        "\n",
        "# Compile the model\n",
        "model.compile(loss='mean_squared_error', optimizer='adam', metrics=['mae'])\n",
        "model.summary()\n",
        "\n",
        "# Train the model\n",
        "history = model.fit(X_train_scaled, y_train, validation_split=0.2, epochs=100, batch_size=32)"
      ],
      "metadata": {
        "colab": {
          "base_uri": "https://localhost:8080/"
        },
        "id": "23iSqPH4S3_k",
        "outputId": "27c5bf98-739e-4cce-fd8b-dcf2f68526d2"
      },
      "execution_count": 45,
      "outputs": [
        {
          "output_type": "stream",
          "name": "stdout",
          "text": [
            "Model: \"sequential_7\"\n",
            "_________________________________________________________________\n",
            " Layer (type)                Output Shape              Param #   \n",
            "=================================================================\n",
            " dense_19 (Dense)            (None, 128)               2688      \n",
            "                                                                 \n",
            " dense_20 (Dense)            (None, 64)                8256      \n",
            "                                                                 \n",
            " dense_21 (Dense)            (None, 1)                 65        \n",
            "                                                                 \n",
            "=================================================================\n",
            "Total params: 11,009\n",
            "Trainable params: 11,009\n",
            "Non-trainable params: 0\n",
            "_________________________________________________________________\n",
            "Epoch 1/100\n",
            "11/11 [==============================] - 2s 40ms/step - loss: 26817282965504.0000 - mae: 4787143.0000 - val_loss: 25096508932096.0000 - val_mae: 4740032.0000\n",
            "Epoch 2/100\n",
            "11/11 [==============================] - 0s 9ms/step - loss: 26817264091136.0000 - mae: 4787140.5000 - val_loss: 25096487960576.0000 - val_mae: 4740030.0000\n",
            "Epoch 3/100\n",
            "11/11 [==============================] - 0s 10ms/step - loss: 26817238925312.0000 - mae: 4787138.0000 - val_loss: 25096452308992.0000 - val_mae: 4740026.5000\n",
            "Epoch 4/100\n",
            "11/11 [==============================] - 0s 10ms/step - loss: 26817188593664.0000 - mae: 4787133.0000 - val_loss: 25096391491584.0000 - val_mae: 4740020.0000\n",
            "Epoch 5/100\n",
            "11/11 [==============================] - 0s 7ms/step - loss: 26817113096192.0000 - mae: 4787125.5000 - val_loss: 25096292925440.0000 - val_mae: 4740010.0000\n",
            "Epoch 6/100\n",
            "11/11 [==============================] - 0s 5ms/step - loss: 26816985169920.0000 - mae: 4787112.0000 - val_loss: 25096137736192.0000 - val_mae: 4739994.0000\n",
            "Epoch 7/100\n",
            "11/11 [==============================] - 0s 6ms/step - loss: 26816800620544.0000 - mae: 4787092.5000 - val_loss: 25095904952320.0000 - val_mae: 4739970.0000\n",
            "Epoch 8/100\n",
            "11/11 [==============================] - 0s 5ms/step - loss: 26816523796480.0000 - mae: 4787065.5000 - val_loss: 25095586185216.0000 - val_mae: 4739936.5000\n",
            "Epoch 9/100\n",
            "11/11 [==============================] - 0s 5ms/step - loss: 26816146309120.0000 - mae: 4787027.0000 - val_loss: 25095143686144.0000 - val_mae: 4739890.5000\n",
            "Epoch 10/100\n",
            "11/11 [==============================] - 0s 5ms/step - loss: 26815636701184.0000 - mae: 4786974.0000 - val_loss: 25094569066496.0000 - val_mae: 4739831.0000\n",
            "Epoch 11/100\n",
            "11/11 [==============================] - 0s 5ms/step - loss: 26814984486912.0000 - mae: 4786908.0000 - val_loss: 25093830868992.0000 - val_mae: 4739754.0000\n",
            "Epoch 12/100\n",
            "11/11 [==============================] - 0s 6ms/step - loss: 26814166597632.0000 - mae: 4786823.0000 - val_loss: 25092910219264.0000 - val_mae: 4739659.5000\n",
            "Epoch 13/100\n",
            "11/11 [==============================] - 0s 8ms/step - loss: 26813141090304.0000 - mae: 4786719.5000 - val_loss: 25091796631552.0000 - val_mae: 4739543.5000\n",
            "Epoch 14/100\n",
            "11/11 [==============================] - 0s 5ms/step - loss: 26811920547840.0000 - mae: 4786593.0000 - val_loss: 25090456551424.0000 - val_mae: 4739404.5000\n",
            "Epoch 15/100\n",
            "11/11 [==============================] - 0s 5ms/step - loss: 26810454638592.0000 - mae: 4786444.0000 - val_loss: 25088879493120.0000 - val_mae: 4739241.5000\n",
            "Epoch 16/100\n",
            "11/11 [==============================] - 0s 4ms/step - loss: 26808755945472.0000 - mae: 4786267.5000 - val_loss: 25087031902208.0000 - val_mae: 4739049.5000\n",
            "Epoch 17/100\n",
            "11/11 [==============================] - 0s 6ms/step - loss: 26806776233984.0000 - mae: 4786064.5000 - val_loss: 25084905390080.0000 - val_mae: 4738829.0000\n",
            "Epoch 18/100\n",
            "11/11 [==============================] - 0s 5ms/step - loss: 26804486144000.0000 - mae: 4785831.0000 - val_loss: 25082489470976.0000 - val_mae: 4738579.0000\n",
            "Epoch 19/100\n",
            "11/11 [==============================] - 0s 5ms/step - loss: 26801894064128.0000 - mae: 4785567.0000 - val_loss: 25079748493312.0000 - val_mae: 4738294.0000\n",
            "Epoch 20/100\n",
            "11/11 [==============================] - 0s 7ms/step - loss: 26798926594048.0000 - mae: 4785268.5000 - val_loss: 25076695040000.0000 - val_mae: 4737978.0000\n",
            "Epoch 21/100\n",
            "11/11 [==============================] - 0s 6ms/step - loss: 26795713757184.0000 - mae: 4784931.5000 - val_loss: 25073213767680.0000 - val_mae: 4737616.5000\n",
            "Epoch 22/100\n",
            "11/11 [==============================] - 0s 6ms/step - loss: 26792014381056.0000 - mae: 4784556.5000 - val_loss: 25069388562432.0000 - val_mae: 4737219.5000\n",
            "Epoch 23/100\n",
            "11/11 [==============================] - 0s 5ms/step - loss: 26788000432128.0000 - mae: 4784140.0000 - val_loss: 25065137635328.0000 - val_mae: 4736779.5000\n",
            "Epoch 24/100\n",
            "11/11 [==============================] - 0s 6ms/step - loss: 26783520915456.0000 - mae: 4783683.0000 - val_loss: 25060490346496.0000 - val_mae: 4736297.5000\n",
            "Epoch 25/100\n",
            "11/11 [==============================] - 0s 5ms/step - loss: 26778590511104.0000 - mae: 4783183.5000 - val_loss: 25055427821568.0000 - val_mae: 4735771.5000\n",
            "Epoch 26/100\n",
            "11/11 [==============================] - 0s 6ms/step - loss: 26773276327936.0000 - mae: 4782636.0000 - val_loss: 25049866174464.0000 - val_mae: 4735195.0000\n",
            "Epoch 27/100\n",
            "11/11 [==============================] - 0s 6ms/step - loss: 26767481896960.0000 - mae: 4782037.5000 - val_loss: 25043822182400.0000 - val_mae: 4734568.0000\n",
            "Epoch 28/100\n",
            "11/11 [==============================] - 0s 7ms/step - loss: 26761215606784.0000 - mae: 4781388.0000 - val_loss: 25037289553920.0000 - val_mae: 4733890.0000\n",
            "Epoch 29/100\n",
            "11/11 [==============================] - 0s 5ms/step - loss: 26754280325120.0000 - mae: 4780694.5000 - val_loss: 25030362660864.0000 - val_mae: 4733170.5000\n",
            "Epoch 30/100\n",
            "11/11 [==============================] - 0s 5ms/step - loss: 26747105968128.0000 - mae: 4779944.5000 - val_loss: 25022756290560.0000 - val_mae: 4732381.0000\n",
            "Epoch 31/100\n",
            "11/11 [==============================] - 0s 6ms/step - loss: 26739161956352.0000 - mae: 4779136.0000 - val_loss: 25014696935424.0000 - val_mae: 4731544.0000\n",
            "Epoch 32/100\n",
            "11/11 [==============================] - 0s 6ms/step - loss: 26730821582848.0000 - mae: 4778274.0000 - val_loss: 25006018920448.0000 - val_mae: 4730643.5000\n",
            "Epoch 33/100\n",
            "11/11 [==============================] - 0s 4ms/step - loss: 26721678000128.0000 - mae: 4777353.5000 - val_loss: 24996908892160.0000 - val_mae: 4729696.0000\n",
            "Epoch 34/100\n",
            "11/11 [==============================] - 0s 6ms/step - loss: 26712280662016.0000 - mae: 4776371.0000 - val_loss: 24987031306240.0000 - val_mae: 4728670.0000\n",
            "Epoch 35/100\n",
            "11/11 [==============================] - 0s 4ms/step - loss: 26702006714368.0000 - mae: 4775325.0000 - val_loss: 24976629432320.0000 - val_mae: 4727589.0000\n",
            "Epoch 36/100\n",
            "11/11 [==============================] - 0s 5ms/step - loss: 26691200090112.0000 - mae: 4774217.0000 - val_loss: 24965596315648.0000 - val_mae: 4726442.0000\n",
            "Epoch 37/100\n",
            "11/11 [==============================] - 0s 6ms/step - loss: 26679695114240.0000 - mae: 4773043.0000 - val_loss: 24953963413504.0000 - val_mae: 4725232.5000\n",
            "Epoch 38/100\n",
            "11/11 [==============================] - 0s 5ms/step - loss: 26667735056384.0000 - mae: 4771800.5000 - val_loss: 24941512622080.0000 - val_mae: 4723939.0000\n",
            "Epoch 39/100\n",
            "11/11 [==============================] - 0s 6ms/step - loss: 26654762074112.0000 - mae: 4770484.5000 - val_loss: 24928573194240.0000 - val_mae: 4722592.0000\n",
            "Epoch 40/100\n",
            "11/11 [==============================] - 0s 5ms/step - loss: 26641373855744.0000 - mae: 4769103.0000 - val_loss: 24914838945792.0000 - val_mae: 4721163.5000\n",
            "Epoch 41/100\n",
            "11/11 [==============================] - 0s 6ms/step - loss: 26627207593984.0000 - mae: 4767645.5000 - val_loss: 24900408442880.0000 - val_mae: 4719661.5000\n",
            "Epoch 42/100\n",
            "11/11 [==============================] - 0s 5ms/step - loss: 26612311523328.0000 - mae: 4766116.0000 - val_loss: 24885264908288.0000 - val_mae: 4718084.5000\n",
            "Epoch 43/100\n",
            "11/11 [==============================] - 0s 6ms/step - loss: 26596729683968.0000 - mae: 4764509.5000 - val_loss: 24869370593280.0000 - val_mae: 4716429.5000\n",
            "Epoch 44/100\n",
            "11/11 [==============================] - 0s 5ms/step - loss: 26580386578432.0000 - mae: 4762823.5000 - val_loss: 24852746469376.0000 - val_mae: 4714698.0000\n",
            "Epoch 45/100\n",
            "11/11 [==============================] - 0s 5ms/step - loss: 26563141697536.0000 - mae: 4761065.0000 - val_loss: 24835493199872.0000 - val_mae: 4712899.5000\n",
            "Epoch 46/100\n",
            "11/11 [==============================] - 0s 5ms/step - loss: 26545366237184.0000 - mae: 4759228.5000 - val_loss: 24817375903744.0000 - val_mae: 4711010.5000\n",
            "Epoch 47/100\n",
            "11/11 [==============================] - 0s 5ms/step - loss: 26526758207488.0000 - mae: 4757303.0000 - val_loss: 24798444912640.0000 - val_mae: 4709035.5000\n",
            "Epoch 48/100\n",
            "11/11 [==============================] - 0s 5ms/step - loss: 26507175002112.0000 - mae: 4755301.0000 - val_loss: 24778859610112.0000 - val_mae: 4706991.5000\n",
            "Epoch 49/100\n",
            "11/11 [==============================] - 0s 4ms/step - loss: 26486841016320.0000 - mae: 4753226.5000 - val_loss: 24758531915776.0000 - val_mae: 4704869.0000\n",
            "Epoch 50/100\n",
            "11/11 [==============================] - 0s 5ms/step - loss: 26466137931776.0000 - mae: 4751055.5000 - val_loss: 24737006747648.0000 - val_mae: 4702621.0000\n",
            "Epoch 51/100\n",
            "11/11 [==============================] - 0s 4ms/step - loss: 26444075892736.0000 - mae: 4748782.0000 - val_loss: 24714867113984.0000 - val_mae: 4700308.5000\n",
            "Epoch 52/100\n",
            "11/11 [==============================] - 0s 6ms/step - loss: 26421302919168.0000 - mae: 4746434.0000 - val_loss: 24691922173952.0000 - val_mae: 4697909.0000\n",
            "Epoch 53/100\n",
            "11/11 [==============================] - 0s 6ms/step - loss: 26397577838592.0000 - mae: 4744005.0000 - val_loss: 24668276785152.0000 - val_mae: 4695435.5000\n",
            "Epoch 54/100\n",
            "11/11 [==============================] - 0s 4ms/step - loss: 26373471076352.0000 - mae: 4741478.5000 - val_loss: 24643406659584.0000 - val_mae: 4692832.5000\n",
            "Epoch 55/100\n",
            "11/11 [==============================] - 0s 6ms/step - loss: 26347718049792.0000 - mae: 4738862.5000 - val_loss: 24618106617856.0000 - val_mae: 4690182.0000\n",
            "Epoch 56/100\n",
            "11/11 [==============================] - 0s 6ms/step - loss: 26321635770368.0000 - mae: 4736166.5000 - val_loss: 24591713959936.0000 - val_mae: 4687417.5000\n",
            "Epoch 57/100\n",
            "11/11 [==============================] - 0s 5ms/step - loss: 26294930636800.0000 - mae: 4733344.5000 - val_loss: 24564071399424.0000 - val_mae: 4684519.5000\n",
            "Epoch 58/100\n",
            "11/11 [==============================] - 0s 6ms/step - loss: 26266415661056.0000 - mae: 4730445.0000 - val_loss: 24536059740160.0000 - val_mae: 4681581.0000\n",
            "Epoch 59/100\n",
            "11/11 [==============================] - 0s 5ms/step - loss: 26237810507776.0000 - mae: 4727449.0000 - val_loss: 24506840121344.0000 - val_mae: 4678514.0000\n",
            "Epoch 60/100\n",
            "11/11 [==============================] - 0s 5ms/step - loss: 26207892537344.0000 - mae: 4724351.5000 - val_loss: 24476838264832.0000 - val_mae: 4675362.0000\n",
            "Epoch 61/100\n",
            "11/11 [==============================] - 0s 6ms/step - loss: 26177334935552.0000 - mae: 4721158.0000 - val_loss: 24445777346560.0000 - val_mae: 4672097.5000\n",
            "Epoch 62/100\n",
            "11/11 [==============================] - 0s 6ms/step - loss: 26145290452992.0000 - mae: 4717871.0000 - val_loss: 24414139711488.0000 - val_mae: 4668770.0000\n",
            "Epoch 63/100\n",
            "11/11 [==============================] - 0s 5ms/step - loss: 26112935591936.0000 - mae: 4714496.5000 - val_loss: 24381285728256.0000 - val_mae: 4665311.5000\n",
            "Epoch 64/100\n",
            "11/11 [==============================] - 0s 6ms/step - loss: 26079066587136.0000 - mae: 4711015.0000 - val_loss: 24347764850688.0000 - val_mae: 4661779.5000\n",
            "Epoch 65/100\n",
            "11/11 [==============================] - 0s 6ms/step - loss: 26044811706368.0000 - mae: 4707419.0000 - val_loss: 24313012944896.0000 - val_mae: 4658116.5000\n",
            "Epoch 66/100\n",
            "11/11 [==============================] - 0s 6ms/step - loss: 26009432752128.0000 - mae: 4703717.0000 - val_loss: 24277141159936.0000 - val_mae: 4654332.5000\n",
            "Epoch 67/100\n",
            "11/11 [==============================] - 0s 5ms/step - loss: 25972738883584.0000 - mae: 4699911.5000 - val_loss: 24240575217664.0000 - val_mae: 4650471.5000\n",
            "Epoch 68/100\n",
            "11/11 [==============================] - 0s 4ms/step - loss: 25935344566272.0000 - mae: 4696008.0000 - val_loss: 24202933436416.0000 - val_mae: 4646494.0000\n",
            "Epoch 69/100\n",
            "11/11 [==============================] - 0s 5ms/step - loss: 25896989753344.0000 - mae: 4691982.0000 - val_loss: 24164259856384.0000 - val_mae: 4642403.5000\n",
            "Epoch 70/100\n",
            "11/11 [==============================] - 0s 6ms/step - loss: 25857288568832.0000 - mae: 4687873.0000 - val_loss: 24124822913024.0000 - val_mae: 4638228.5000\n",
            "Epoch 71/100\n",
            "11/11 [==============================] - 0s 5ms/step - loss: 25816958238720.0000 - mae: 4683644.5000 - val_loss: 24084293353472.0000 - val_mae: 4633934.0000\n",
            "Epoch 72/100\n",
            "11/11 [==============================] - 0s 5ms/step - loss: 25775573041152.0000 - mae: 4679295.0000 - val_loss: 24042706829312.0000 - val_mae: 4629523.5000\n",
            "Epoch 73/100\n",
            "11/11 [==============================] - 0s 4ms/step - loss: 25733164433408.0000 - mae: 4674862.5000 - val_loss: 23999973163008.0000 - val_mae: 4624987.5000\n",
            "Epoch 74/100\n",
            "11/11 [==============================] - 0s 4ms/step - loss: 25689386385408.0000 - mae: 4670295.5000 - val_loss: 23956555825152.0000 - val_mae: 4620374.5000\n",
            "Epoch 75/100\n",
            "11/11 [==============================] - 0s 4ms/step - loss: 25644861751296.0000 - mae: 4665627.0000 - val_loss: 23912071036928.0000 - val_mae: 4615642.0000\n",
            "Epoch 76/100\n",
            "11/11 [==============================] - 0s 6ms/step - loss: 25599280152576.0000 - mae: 4660845.5000 - val_loss: 23866537672704.0000 - val_mae: 4610794.5000\n",
            "Epoch 77/100\n",
            "11/11 [==============================] - 0s 6ms/step - loss: 25553354620928.0000 - mae: 4655936.5000 - val_loss: 23819309809664.0000 - val_mae: 4605762.0000\n",
            "Epoch 78/100\n",
            "11/11 [==============================] - 0s 5ms/step - loss: 25504893632512.0000 - mae: 4650911.5000 - val_loss: 23771903688704.0000 - val_mae: 4600704.5000\n",
            "Epoch 79/100\n",
            "11/11 [==============================] - 0s 5ms/step - loss: 25456684302336.0000 - mae: 4645786.5000 - val_loss: 23722975035392.0000 - val_mae: 4595478.0000\n",
            "Epoch 80/100\n",
            "11/11 [==============================] - 0s 6ms/step - loss: 25406497357824.0000 - mae: 4640537.5000 - val_loss: 23673469665280.0000 - val_mae: 4590182.5000\n",
            "Epoch 81/100\n",
            "11/11 [==============================] - 0s 6ms/step - loss: 25356293636096.0000 - mae: 4635171.5000 - val_loss: 23622311739392.0000 - val_mae: 4584707.0000\n",
            "Epoch 82/100\n",
            "11/11 [==============================] - 0s 4ms/step - loss: 25304120688640.0000 - mae: 4629675.0000 - val_loss: 23570520473600.0000 - val_mae: 4579155.0000\n",
            "Epoch 83/100\n",
            "11/11 [==============================] - 0s 4ms/step - loss: 25251079520256.0000 - mae: 4624101.0000 - val_loss: 23517842112512.0000 - val_mae: 4573501.0000\n",
            "Epoch 84/100\n",
            "11/11 [==============================] - 0s 5ms/step - loss: 25197635698688.0000 - mae: 4618375.0000 - val_loss: 23463632830464.0000 - val_mae: 4567677.0000\n",
            "Epoch 85/100\n",
            "11/11 [==============================] - 0s 5ms/step - loss: 25142038102016.0000 - mae: 4612545.5000 - val_loss: 23408972660736.0000 - val_mae: 4561795.5000\n",
            "Epoch 86/100\n",
            "11/11 [==============================] - 0s 4ms/step - loss: 25086216110080.0000 - mae: 4606605.0000 - val_loss: 23352976605184.0000 - val_mae: 4555763.5000\n",
            "Epoch 87/100\n",
            "11/11 [==============================] - 0s 6ms/step - loss: 25028708007936.0000 - mae: 4600544.5000 - val_loss: 23296244449280.0000 - val_mae: 4549642.5000\n",
            "Epoch 88/100\n",
            "11/11 [==============================] - 0s 6ms/step - loss: 24971019550720.0000 - mae: 4594354.0000 - val_loss: 23237834571776.0000 - val_mae: 4543334.0000\n",
            "Epoch 89/100\n",
            "11/11 [==============================] - 0s 4ms/step - loss: 24911586263040.0000 - mae: 4588006.5000 - val_loss: 23178426449920.0000 - val_mae: 4536910.5000\n",
            "Epoch 90/100\n",
            "11/11 [==============================] - 0s 6ms/step - loss: 24850932432896.0000 - mae: 4581564.5000 - val_loss: 23118219313152.0000 - val_mae: 4530389.0000\n",
            "Epoch 91/100\n",
            "11/11 [==============================] - 0s 4ms/step - loss: 24789464907776.0000 - mae: 4574982.5000 - val_loss: 23056969891840.0000 - val_mae: 4523745.5000\n",
            "Epoch 92/100\n",
            "11/11 [==============================] - 0s 4ms/step - loss: 24727768793088.0000 - mae: 4568272.5000 - val_loss: 22993830936576.0000 - val_mae: 4516888.0000\n",
            "Epoch 93/100\n",
            "11/11 [==============================] - 0s 5ms/step - loss: 24663050682368.0000 - mae: 4561441.5000 - val_loss: 22930922668032.0000 - val_mae: 4510043.5000\n",
            "Epoch 94/100\n",
            "11/11 [==============================] - 0s 5ms/step - loss: 24599194501120.0000 - mae: 4554507.5000 - val_loss: 22866206654464.0000 - val_mae: 4502994.5000\n",
            "Epoch 95/100\n",
            "11/11 [==============================] - 0s 6ms/step - loss: 24533278916608.0000 - mae: 4547427.5000 - val_loss: 22800706306048.0000 - val_mae: 4495847.5000\n",
            "Epoch 96/100\n",
            "11/11 [==============================] - 0s 5ms/step - loss: 24465769496576.0000 - mae: 4540286.0000 - val_loss: 22734811693056.0000 - val_mae: 4488644.5000\n",
            "Epoch 97/100\n",
            "11/11 [==============================] - 0s 7ms/step - loss: 24398903902208.0000 - mae: 4532990.5000 - val_loss: 22666742333440.0000 - val_mae: 4481192.5000\n",
            "Epoch 98/100\n",
            "11/11 [==============================] - 0s 6ms/step - loss: 24329955835904.0000 - mae: 4525485.5000 - val_loss: 22597754421248.0000 - val_mae: 4473628.5000\n",
            "Epoch 99/100\n",
            "11/11 [==============================] - 0s 6ms/step - loss: 24259894181888.0000 - mae: 4517908.0000 - val_loss: 22527917162496.0000 - val_mae: 4465958.5000\n",
            "Epoch 100/100\n",
            "11/11 [==============================] - 0s 5ms/step - loss: 24188825894912.0000 - mae: 4510203.0000 - val_loss: 22457257820160.0000 - val_mae: 4458184.5000\n"
          ]
        }
      ]
    },
    {
      "cell_type": "code",
      "source": [
        "# Evaluate the model\n",
        "test_loss, test_mae = model.evaluate(X_test_scaled, y_test)\n",
        "print('Test loss:', test_loss)\n",
        "print('Test MAE:', test_mae)\n"
      ],
      "metadata": {
        "colab": {
          "base_uri": "https://localhost:8080/"
        },
        "id": "vbF_U2H2S9ab",
        "outputId": "15a60967-da71-40c0-fe75-734a82f00664"
      },
      "execution_count": 46,
      "outputs": [
        {
          "output_type": "stream",
          "name": "stdout",
          "text": [
            "4/4 [==============================] - 0s 7ms/step - loss: 22568897609728.0000 - mae: 4443086.5000\n",
            "Test loss: 22568897609728.0\n",
            "Test MAE: 4443086.5\n"
          ]
        }
      ]
    },
    {
      "cell_type": "code",
      "source": [
        "y_pred = model.predict(X_test)\n",
        "print(\"Predictions on Testing Set:\", y_pred[:10])"
      ],
      "metadata": {
        "colab": {
          "base_uri": "https://localhost:8080/"
        },
        "id": "TkWIxRktTCWb",
        "outputId": "548e1384-8059-4664-8c6a-8b31bd0784aa"
      },
      "execution_count": 47,
      "outputs": [
        {
          "output_type": "stream",
          "name": "stdout",
          "text": [
            "4/4 [==============================] - 0s 3ms/step\n",
            "Predictions on Testing Set: [[139582.34 ]\n",
            " [214463.64 ]\n",
            " [131379.73 ]\n",
            " [266939.8  ]\n",
            " [135640.3  ]\n",
            " [227979.25 ]\n",
            " [133550.69 ]\n",
            " [123905.734]\n",
            " [ 49262.086]\n",
            " [413128.2  ]]\n"
          ]
        }
      ]
    },
    {
      "cell_type": "code",
      "source": [
        "# Dự đoán giá nhà trên tập kiểm tra\n",
        "y_pred = model.predict(X_test)\n",
        "import matplotlib.pyplot as plt\n",
        "\n",
        "\n",
        "# Hiển thị kết quả dự đoán\n",
        "plt.scatter(y_test, y_pred)\n",
        "plt.xlabel(\"Actual Price\")\n",
        "plt.ylabel(\"Predicted Price\")\n",
        "plt.title(\"Actual vs Predicted House Prices\")\n",
        "plt.show()\n"
      ],
      "metadata": {
        "colab": {
          "base_uri": "https://localhost:8080/",
          "height": 489
        },
        "id": "EdEqpuwnTFkD",
        "outputId": "3df890dc-c370-4206-e119-b33ed153d60d"
      },
      "execution_count": 48,
      "outputs": [
        {
          "output_type": "stream",
          "name": "stdout",
          "text": [
            "4/4 [==============================] - 0s 5ms/step\n"
          ]
        },
        {
          "output_type": "display_data",
          "data": {
            "text/plain": [
              "<Figure size 640x480 with 1 Axes>"
            ],
            "image/png": "[encoded data removed]"
          },
          "metadata": {}
        }
      ]
    },
    {
      "cell_type": "code",
      "source": [
        "# Dự đoán giá nhà cho các giá trị đầu vào mới\n",
        "new_data = np.array([[5.0, 15, 10000, 1, 0, 1, 0, 1, 0, 1, 0, 0, 1,0.2,0.2,0,1,1,1,1]])\n",
        "new_data_scaled = scaler.transform(new_data)\n",
        "price = model.predict(new_data_scaled)\n",
        "print('Predicted price:', price[0][0])"
      ],
      "metadata": {
        "colab": {
          "base_uri": "https://localhost:8080/"
        },
        "id": "jvRpecoETLf7",
        "outputId": "2936ecab-e67b-42d0-ad97-b13a0c196341"
      },
      "execution_count": 53,
      "outputs": [
        {
          "output_type": "stream",
          "name": "stdout",
          "text": [
            "1/1 [==============================] - 0s 42ms/step\n",
            "Predicted price: 308207100.0\n"
          ]
        }
      ]
    }
  ]
}