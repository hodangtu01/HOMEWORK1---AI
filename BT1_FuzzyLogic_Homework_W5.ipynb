{
  "nbformat": 4,
  "nbformat_minor": 0,
  "metadata": {
    "colab": {
      "provenance": [],
      "authorship_tag": "ABX9TyMAGlyh4TeXN3nsyh7Vd6Ov",
      "include_colab_link": true
    },
    "kernelspec": {
      "name": "python3",
      "display_name": "Python 3"
    },
    "language_info": {
      "name": "python"
    }
  },
  "cells": [
    {
      "cell_type": "markdown",
      "metadata": {
        "id": "view-in-github",
        "colab_type": "text"
      },
      "source": [
        "<a href=\"https://colab.research.google.com/github/hodangtu01/HOMEWORK1---AI/blob/main/BT1_FuzzyLogic_Homework_W5.ipynb\" target=\"_parent\"><img src=\"https://colab.research.google.com/assets/colab-badge.svg\" alt=\"Open In Colab\"/></a>"
      ]
    },
    {
      "cell_type": "code",
      "execution_count": 1,
      "metadata": {
        "colab": {
          "base_uri": "https://localhost:8080/"
        },
        "id": "JVDXhmiadSM0",
        "outputId": "8e4984cd-c867-4815-bc7d-6ba4767b88e0"
      },
      "outputs": [
        {
          "output_type": "stream",
          "name": "stdout",
          "text": [
            "Looking in indexes: https://pypi.org/simple, https://us-python.pkg.dev/colab-wheels/public/simple/\n",
            "Collecting scikit-fuzzy\n",
            "  Downloading scikit-fuzzy-0.4.2.tar.gz (993 kB)\n",
            "\u001b[2K     \u001b[90m━━━━━━━━━━━━━━━━━━━━━━━━━━━━━━━━━━━━━━\u001b[0m \u001b[32m994.0/994.0 KB\u001b[0m \u001b[31m16.2 MB/s\u001b[0m eta \u001b[36m0:00:00\u001b[0m\n",
            "\u001b[?25h  Preparing metadata (setup.py) ... \u001b[?25l\u001b[?25hdone\n",
            "Requirement already satisfied: numpy>=1.6.0 in /usr/local/lib/python3.8/dist-packages (from scikit-fuzzy) (1.22.4)\n",
            "Requirement already satisfied: scipy>=0.9.0 in /usr/local/lib/python3.8/dist-packages (from scikit-fuzzy) (1.10.1)\n",
            "Requirement already satisfied: networkx>=1.9.0 in /usr/local/lib/python3.8/dist-packages (from scikit-fuzzy) (3.0)\n",
            "Building wheels for collected packages: scikit-fuzzy\n",
            "  Building wheel for scikit-fuzzy (setup.py) ... \u001b[?25l\u001b[?25hdone\n",
            "  Created wheel for scikit-fuzzy: filename=scikit_fuzzy-0.4.2-py3-none-any.whl size=894088 sha256=f8285b569524a7287ddb20e258ffbd815d1e6a7c208a088dc1a22d03fb8b5fc5\n",
            "  Stored in directory: /root/.cache/pip/wheels/2c/04/80/7eefb1a2de7d36aefd06432fab2a1486caf0a0596a7067391a\n",
            "Successfully built scikit-fuzzy\n",
            "Installing collected packages: scikit-fuzzy\n",
            "Successfully installed scikit-fuzzy-0.4.2\n"
          ]
        }
      ],
      "source": [
        "pip install scikit-fuzzy"
      ]
    },
    {
      "cell_type": "code",
      "source": [
        "import numpy as np\n",
        "import skfuzzy as fuzz\n",
        "from skfuzzy import control as ctrl \n",
        "\n",
        "fever = ctrl.Antecedent(np.arange(0.1,1.1,0.1),'fever')\n",
        "headache= ctrl.Antecedent(np.arange(0.1,1.1,0.1),'headache')\n",
        "nausea = ctrl.Antecedent(np.arange(0.1,1.1,0.1),'nausea')\n",
        "vomiting= ctrl.Antecedent(np.arange(0.1,1.1,0.1),'vomiting')\n",
        "jaundice = ctrl.Antecedent(np.arange(0.1,1.1,0.1),'jaundice')\n",
        "enlargedLiver= ctrl.Antecedent(np.arange(0.1,1.1,0.1),'enlargedLiver')\n",
        "jointPain = ctrl.Antecedent(np.arange(0.1,1.1,0.1),'jointPain')\n",
        "bodyWeakness= ctrl.Antecedent(np.arange(0.1,1.1,0.1),'bodyWeakness')\n",
        "dizziness = ctrl.Antecedent(np.arange(0.1,1.1,0.1),'dizziness')\n",
        "lossOfAppetite= ctrl.Antecedent(np.arange(0.1,1.1,0.1),'lossOfAppetite')\n",
        "MP= ctrl.Antecedent(np.arange(0.1,1.1,0.1),'MP')\n",
        "conclusion= ctrl.Consequent(np.arange(0.1,1.1,0.1),'conclusion')\n",
        "\n",
        "# Tạo hàm liên thuộc\n",
        "# FEVER\n",
        "fever['mild']=fuzz.trimf(fever.universe,[0.1,0.1,0.3])\n",
        "fever['moderate']=fuzz.trimf(fever.universe,[0.3,0.5,0.6])\n",
        "fever['severe']=fuzz.trimf(fever.universe,[0.6,0.8,0.8])\n",
        "fever['very severe']=fuzz.trimf(fever.universe,[0.8,1.0,1.0])\n",
        "\n",
        "# HEADACHE\n",
        "headache['mild']=fuzz.trimf(headache.universe,[0.1,0.1,0.3])\n",
        "headache['moderate']=fuzz.trimf(headache.universe,[0.3,0.5,0.6])\n",
        "headache['severe']=fuzz.trimf(headache.universe,[0.6,0.8,0.8])\n",
        "headache['very severe']=fuzz.trimf(headache.universe,[0.8,1.0,1.0])\n",
        "\n",
        "# NAUSEA\n",
        "nausea['mild']=fuzz.trimf(nausea.universe,[0.1,0.1,0.3])\n",
        "nausea['moderate']=fuzz.trimf(nausea.universe,[0.3,0.5,0.6])\n",
        "nausea['severe']=fuzz.trimf(nausea.universe,[0.6,0.8,0.8])\n",
        "nausea['very severe']=fuzz.trimf(nausea.universe,[0.8,1.0,1.0])\n",
        "\n",
        "# VOMITING\n",
        "vomiting['mild']=fuzz.trimf(vomiting.universe,[0.1,0.1,0.3])\n",
        "vomiting['moderate']=fuzz.trimf(vomiting.universe,[0.3,0.5,0.6])\n",
        "vomiting['severe']=fuzz.trimf(vomiting.universe,[0.6,0.8,0.8])\n",
        "vomiting['very severe']=fuzz.trimf(vomiting.universe,[0.8,1.0,1.0])\n",
        "\n",
        "# JAUNDICE\n",
        "jaundice['mild']=fuzz.trimf(jaundice.universe,[0.1,0.1,0.3])\n",
        "jaundice['moderate']=fuzz.trimf(jaundice.universe,[0.3,0.5,0.6])\n",
        "jaundice['severe']=fuzz.trimf(jaundice.universe,[0.6,0.8,0.8])\n",
        "jaundice['very severe']=fuzz.trimf(jaundice.universe,[0.8,1.0,1.0])\n",
        "\n",
        "# ENLARGEDLIVER\n",
        "enlargedLiver['mild']=fuzz.trimf(enlargedLiver.universe,[0.1,0.1,0.3])\n",
        "enlargedLiver['moderate']=fuzz.trimf(enlargedLiver.universe,[0.3,0.5,0.6])\n",
        "enlargedLiver['severe']=fuzz.trimf(enlargedLiver.universe,[0.6,0.8,0.8])\n",
        "enlargedLiver['very severe']=fuzz.trimf(enlargedLiver.universe,[0.8,1.0,1.0])\n",
        "\n",
        "# JOINTPAIN\n",
        "jointPain['mild']=fuzz.trimf(jointPain.universe,[0.1,0.1,0.3])\n",
        "jointPain['moderate']=fuzz.trimf(jointPain.universe,[0.3,0.5,0.6])\n",
        "jointPain['severe']=fuzz.trimf(jointPain.universe,[0.6,0.8,0.8])\n",
        "jointPain['very severe']=fuzz.trimf(jointPain.universe,[0.8,1.0,1.0])\n",
        "\n",
        "# BODYWEAKNESS\n",
        "bodyWeakness['mild']=fuzz.trimf(bodyWeakness.universe,[0.1,0.1,0.3])\n",
        "bodyWeakness['moderate']=fuzz.trimf(bodyWeakness.universe,[0.3,0.5,0.6])\n",
        "bodyWeakness['severe']=fuzz.trimf(bodyWeakness.universe,[0.6,0.8,0.8])\n",
        "bodyWeakness['very severe']=fuzz.trimf(bodyWeakness.universe,[0.8,1.0,1.0])\n",
        "\n",
        "# DIZZINESS\n",
        "dizziness['mild']=fuzz.trimf(dizziness.universe,[0.1,0.1,0.3])\n",
        "dizziness['moderate']=fuzz.trimf(dizziness.universe,[0.3,0.5,0.6])\n",
        "dizziness['severe']=fuzz.trimf(dizziness.universe,[0.6,0.8,0.8])\n",
        "dizziness['very severe']=fuzz.trimf(dizziness.universe,[0.8,1.0,1.0])\n",
        "\n",
        "# LOSSOFAPPETITE\n",
        "lossOfAppetite['mild']=fuzz.trimf(lossOfAppetite.universe,[0.1,0.1,0.3])\n",
        "lossOfAppetite['moderate']=fuzz.trimf(lossOfAppetite.universe,[0.3,0.5,0.6])\n",
        "lossOfAppetite['severe']=fuzz.trimf(lossOfAppetite.universe,[0.6,0.8,0.8])\n",
        "lossOfAppetite['very severe']=fuzz.trimf(lossOfAppetite.universe,[0.8,1.0,1.0])\n",
        "\n",
        "# MP\n",
        "MP['mild']=fuzz.trimf(MP.universe,[0.1,0.1,0.3])\n",
        "MP['moderate']=fuzz.trimf(MP.universe,[0.3,0.5,0.6])\n",
        "MP['severe']=fuzz.trimf(MP.universe,[0.6,0.8,0.8])\n",
        "MP['very severe']=fuzz.trimf(MP.universe,[0.8,1.0,1.0])\n",
        "\n",
        "# CONCLUSION\n",
        "conclusion['mild']=fuzz.trimf(conclusion.universe,[0.1,0.1,0.3])\n",
        "conclusion['moderate']=fuzz.trimf(conclusion.universe,[0.3,0.5,0.6])\n",
        "conclusion['severe']=fuzz.trimf(conclusion.universe,[0.6,0.8,0.8])\n",
        "conclusion['very severe']=fuzz.trimf(conclusion.universe,[0.8,1.0,1.0])\n",
        "\n",
        "# Tạo luật\n",
        "rule1 = ctrl.Rule(fever['mild']&headache['mild']&nausea['mild']&vomiting['mild']&jaundice['mild']\n",
        "                  &enlargedLiver['mild']&jointPain['mild']&bodyWeakness['mild']&dizziness['severe']\n",
        "                  &lossOfAppetite['mild']&MP['mild'],conclusion['mild'])\n",
        "rule2 = ctrl.Rule(fever['moderate']&headache['mild']&nausea['mild']&vomiting['mild']&jaundice['mild']\n",
        "                  &enlargedLiver['mild']&jointPain['moderate']&bodyWeakness['moderate']&dizziness['severe']\n",
        "                  &lossOfAppetite['severe']&MP['moderate'],conclusion['moderate'])\n",
        "rule3 = ctrl.Rule(fever['severe']&headache['moderate']&nausea['mild']&vomiting['mild']&jaundice['mild']\n",
        "                  &enlargedLiver['mild']&jointPain['mild']&bodyWeakness['severe']&dizziness['severe']\n",
        "                  &lossOfAppetite['severe']&MP['moderate'],conclusion['severe'])\n",
        "rule4 = ctrl.Rule(fever['very severe']&headache['mild']&nausea['mild']&vomiting['mild']&jaundice['mild']\n",
        "                  &enlargedLiver['mild']&jointPain['severe']&bodyWeakness['severe']&dizziness['mild']\n",
        "                  &lossOfAppetite['mild']&MP['severe'],conclusion['very severe'])\n",
        "rule5 = ctrl.Rule(fever['moderate']&headache['mild']&nausea['mild']&vomiting['moderate']\n",
        "                  &jaundice['mild']&enlargedLiver['mild']&jointPain['moderate']&bodyWeakness['moderate']\n",
        "                  &dizziness['moderate']&lossOfAppetite['severe']&MP['moderate'],conclusion['moderate'])\n",
        "rule6 = ctrl.Rule(fever['mild']&headache['moderate']&nausea['moderate']&vomiting['mild']\n",
        "                  &jaundice['mild']&enlargedLiver['mild']&jointPain['mild']&bodyWeakness['mild']\n",
        "                  &dizziness['moderate']&lossOfAppetite['mild']&MP['mild'],conclusion['mild'])\n",
        "rule7 = ctrl.Rule(fever['mild']&headache['mild']&nausea['moderate']&vomiting['moderate']\n",
        "                  &jaundice['mild']&enlargedLiver['mild']&jointPain['severe']&bodyWeakness['severe']\n",
        "                  &dizziness['moderate']&lossOfAppetite['moderate']&MP['moderate'],conclusion['severe'])\n",
        "rule8 = ctrl.Rule(fever['moderate']&headache['moderate']&nausea['moderate']&vomiting['moderate']\n",
        "                  &jaundice['moderate']&enlargedLiver['moderate']&jointPain['moderate']&bodyWeakness['moderate']\n",
        "                  &dizziness['moderate']&lossOfAppetite['moderate']&MP['moderate'],conclusion['moderate'])\n",
        "rule9 = ctrl.Rule(fever['moderate']&headache['mild']&nausea['moderate']&vomiting['moderate']&jaundice['mild']\n",
        "                  &enlargedLiver['severe']&jointPain['moderate']&bodyWeakness['moderate']&dizziness['severe']\n",
        "                  &lossOfAppetite['moderate']&MP['moderate'],conclusion['moderate'])\n",
        "rule10 = ctrl.Rule(fever['mild']&headache['mild']&nausea['moderate']&vomiting['moderate']&jaundice['mild']\n",
        "                   &enlargedLiver['moderate']&jointPain['mild']&bodyWeakness['mild']&dizziness['mild']\n",
        "                   &lossOfAppetite['mild']&MP['mild'],conclusion['mild'])\n",
        "rule11 = ctrl.Rule(fever['severe']&headache['severe']&nausea['severe']&vomiting['severe']&jaundice['severe']\n",
        "                   &enlargedLiver['severe']&jointPain['severe']&bodyWeakness['very severe']\n",
        "                   &dizziness['severe']&lossOfAppetite['severe']&MP['moderate'],conclusion['very severe'])\n",
        "rule12 = ctrl.Rule(fever['moderate']&headache['severe']&nausea['moderate']&vomiting['severe']\n",
        "                   &jaundice['moderate']&enlargedLiver['severe']&jointPain['moderate']&bodyWeakness['severe']\n",
        "                   &dizziness['moderate']&lossOfAppetite['mild']&MP['moderate'],conclusion['severe'])\n",
        "rule13 = ctrl.Rule(fever['mild']&headache['moderate']&nausea['moderate']&vomiting['moderate']&jaundice['mild']\n",
        "                   &enlargedLiver['mild']&jointPain['mild']&bodyWeakness['moderate']&dizziness['mild']\n",
        "                   &lossOfAppetite['moderate']&MP['moderate'],conclusion['moderate'])\n",
        "rule14 = ctrl.Rule(fever['severe']&headache['severe']&nausea['moderate']&vomiting['severe']&jaundice['severe']\n",
        "                   &enlargedLiver['severe']&jointPain['severe']&bodyWeakness['severe']&dizziness['moderate']\n",
        "                   &lossOfAppetite['moderate']&MP['severe'],conclusion['severe'])\n",
        "rule15 = ctrl.Rule(fever['mild']&headache['mild']&nausea['mild']&vomiting['moderate']&jaundice['mild']\n",
        "                   &enlargedLiver['mild']&jointPain['mild']&bodyWeakness['severe']&dizziness['mild']\n",
        "                   &lossOfAppetite['severe']&MP['moderate'],conclusion['severe'])\n",
        "rule16 = ctrl.Rule(fever['very severe']&headache['moderate']&nausea['mild']&vomiting['moderate']\n",
        "                   &jaundice['severe']&enlargedLiver['moderate']&jointPain['mild']&bodyWeakness['very severe']\n",
        "                   &dizziness['severe']&lossOfAppetite['mild']&MP['moderate'],conclusion['very severe'])\n",
        "rule17 = ctrl.Rule(fever['mild']&headache['very severe']&nausea['moderate']&vomiting['moderate']\n",
        "                   &jaundice['mild']&enlargedLiver['moderate']&jointPain['mild']&bodyWeakness['moderate']\n",
        "                   &dizziness['very severe']&lossOfAppetite['mild']&MP['moderate'],conclusion['very severe'])\n",
        "rule18 = ctrl.Rule(fever['moderate']&headache['very severe']&nausea['very severe']&vomiting['mild']\n",
        "                   &jaundice['severe']&enlargedLiver['severe']&jointPain['moderate']&bodyWeakness['severe']\n",
        "                   &dizziness['very severe']&lossOfAppetite['very severe']&MP['severe'],conclusion['very severe'])\n",
        "rule19 = ctrl.Rule(fever['moderate']&headache['moderate']&nausea['moderate']&vomiting['moderate']&jaundice['mild']\n",
        "                   &enlargedLiver['mild']&jointPain['moderate']&bodyWeakness['moderate']&dizziness['moderate']\n",
        "                   &lossOfAppetite['moderate']&MP['moderate'],conclusion['moderate'])\n",
        "rule20 = ctrl.Rule(fever['very severe']&headache['severe']&nausea['severe']&vomiting['severe']\n",
        "                   &jaundice['severe']&enlargedLiver['severe']&jointPain['severe']&bodyWeakness['severe']\n",
        "                   &dizziness['severe']&lossOfAppetite['severe']&MP['moderate'],conclusion['very severe'])\n",
        "\n",
        "\n",
        "rule = []\n",
        "for i in range(1, 21):\n",
        "    rule.append(locals()[\"rule\" + str(i)])\n",
        "conclusion_ctrl = ctrl.ControlSystem(rule)\n",
        "Conclusioning = ctrl.ControlSystemSimulation(conclusion_ctrl)\n",
        "Conclusioning.input['fever']= 0.43\n",
        "Conclusioning.input['headache']=0.15\n",
        "Conclusioning.input['nausea']=0.15\n",
        "Conclusioning.input['vomiting']=0.2\n",
        "Conclusioning.input['jaundice']=0.2\n",
        "Conclusioning.input['enlargedLiver']=0.2\n",
        "Conclusioning.input['jointPain']=0.45\n",
        "Conclusioning.input['bodyWeakness']=0.43\n",
        "Conclusioning.input['dizziness']=0.69\n",
        "Conclusioning.input['lossOfAppetite']=0.65\n",
        "Conclusioning.input['MP']=0.43\n",
        "Conclusioning.compute()\n",
        "print(Conclusioning.output['conclusion'])\n",
        "conclusion.view(sim=Conclusioning)"
      ],
      "metadata": {
        "colab": {
          "base_uri": "https://localhost:8080/",
          "height": 298
        },
        "id": "jB72Fxk8dw8Q",
        "outputId": "da144972-a36e-43f3-ed3d-51b4a7a9425d"
      },
      "execution_count": 25,
      "outputs": [
        {
          "output_type": "stream",
          "name": "stdout",
          "text": [
            "0.45595238095238083\n"
          ]
        },
        {
          "output_type": "display_data",
          "data": {
            "text/plain": [
              "<Figure size 432x288 with 1 Axes>"
            ],
            "image/png": "[encoded data removed]"
          },
          "metadata": {
            "needs_background": "light"
          }
        }
      ]
    }
  ]
}